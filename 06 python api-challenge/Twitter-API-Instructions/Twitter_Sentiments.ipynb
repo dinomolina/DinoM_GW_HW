{
 "cells": [
  {
   "cell_type": "code",
   "execution_count": 1,
   "metadata": {},
   "outputs": [],
   "source": [
    "import tweepy\n",
    "import os\n",
    "import numpy as np\n",
    "import pandas as pd\n",
    "from vaderSentiment.vaderSentiment import SentimentIntensityAnalyzer\n",
    "analyzer = SentimentIntensityAnalyzer()\n",
    "import matplotlib.pyplot as plt"
   ]
  },
  {
   "cell_type": "code",
   "execution_count": 2,
   "metadata": {},
   "outputs": [
    {
     "name": "stdout",
     "output_type": "stream",
     "text": [
      "C:\\Users\\dinom\\Desktop\\DinoM_GW_HW\\06 python api\\Twitter-API-Instructions\n"
     ]
    }
   ],
   "source": [
    "orig_working_directory = os.getcwd()\n",
    "print(orig_working_directory)"
   ]
  },
  {
   "cell_type": "code",
   "execution_count": 3,
   "metadata": {},
   "outputs": [],
   "source": [
    "from config import (consumer_key, \n",
    "                    consumer_secret, \n",
    "                    access_token, \n",
    "                    access_token_secret)"
   ]
  },
  {
   "cell_type": "code",
   "execution_count": 4,
   "metadata": {},
   "outputs": [],
   "source": [
    "auth = tweepy.OAuthHandler(consumer_key, consumer_secret)\n",
    "auth.set_access_token(access_token, access_token_secret)\n",
    "api = tweepy.API(auth)"
   ]
  },
  {
   "cell_type": "code",
   "execution_count": 5,
   "metadata": {},
   "outputs": [],
   "source": [
    "target_terms = (\"@BBC\", \"@CBS\", \"@CNN\",\"@FoxNews\", \"@NyTimes\")\n",
    "\n",
    "min_tweets = 5\n",
    "max_tweets = 10000\n",
    "max_followers = 2500\n",
    "max_following = 2500\n",
    "\n",
    "# List to hold results\n",
    "tweets_list = []\n",
    "search_term_list = []"
   ]
  },
  {
   "cell_type": "code",
   "execution_count": 6,
   "metadata": {},
   "outputs": [],
   "source": [
    "for target in target_terms:\n",
    "    \n",
    "    # Iterate through the first 100 tweets\n",
    "    for tweet in tweepy.Cursor(api.user_timeline, target, tweet_mode='extended').items(100):\n",
    "        tweets_list.append(tweet)    \n",
    "        search_term_list.append(target)"
   ]
  },
  {
   "cell_type": "code",
   "execution_count": 7,
   "metadata": {},
   "outputs": [],
   "source": [
    "user_list = []\n",
    "tweet_text_list = []\n",
    "compound_list = []\n",
    "positive_list = []\n",
    "negative_list = []\n",
    "neutral_list = []\n",
    "date = []\n",
    "\n",
    "# Loop through all tweets\n",
    "for tweet in tweets_list:\n",
    "        created_at = tweet.created_at\n",
    "        tweet_user = tweet.user.screen_name\n",
    "        tweet_text = tweet.full_text\n",
    "        results = analyzer.polarity_scores(tweet_text)\n",
    "        compound = results[\"compound\"]\n",
    "        pos = results[\"pos\"]\n",
    "        neu = results[\"neu\"]\n",
    "        neg = results[\"neg\"]\n",
    "\n",
    "        # Add each value to the appropriate list\n",
    "        date.append(created_at)\n",
    "        user_list.append(tweet_user)\n",
    "        tweet_text_list.append(tweet_text)\n",
    "        compound_list.append(compound)\n",
    "        positive_list.append(pos)\n",
    "        negative_list.append(neg)\n",
    "        neutral_list.append(neu)"
   ]
  },
  {
   "cell_type": "code",
   "execution_count": 45,
   "metadata": {},
   "outputs": [
    {
     "name": "stderr",
     "output_type": "stream",
     "text": [
      "C:\\Users\\dinom\\anaconda3\\lib\\site-packages\\ipykernel_launcher.py:11: FutureWarning: Passing a negative integer is deprecated in version 1.0 and will not be supported in future version. Instead, use None to not limit the column width.\n",
      "  # This is added back by InteractiveShellApp.init_path()\n"
     ]
    },
    {
     "data": {
      "text/html": [
       "<div>\n",
       "<style scoped>\n",
       "    .dataframe tbody tr th:only-of-type {\n",
       "        vertical-align: middle;\n",
       "    }\n",
       "\n",
       "    .dataframe tbody tr th {\n",
       "        vertical-align: top;\n",
       "    }\n",
       "\n",
       "    .dataframe thead th {\n",
       "        text-align: right;\n",
       "    }\n",
       "</style>\n",
       "<table border=\"1\" class=\"dataframe\">\n",
       "  <thead>\n",
       "    <tr style=\"text-align: right;\">\n",
       "      <th></th>\n",
       "      <th>Create Date</th>\n",
       "      <th>User</th>\n",
       "      <th>Tweet Text</th>\n",
       "      <th>Compound Score</th>\n",
       "      <th>Positive</th>\n",
       "      <th>Neutral</th>\n",
       "      <th>Negative</th>\n",
       "    </tr>\n",
       "  </thead>\n",
       "  <tbody>\n",
       "    <tr>\n",
       "      <th>99</th>\n",
       "      <td>2020-05-14 11:01:00</td>\n",
       "      <td>BBC</td>\n",
       "      <td>Two of the nation’s favourite film critics @KermodeMovie and @simonmayo are turning their critical attention from cinema to the living room.  🙌\\n\\nKermode and Mayo's Home Entertainment Service | Starts this Friday | 8:30pm | @BBCFour &amp;amp; @BBCiPlayer. \\n\\n👉 https://t.co/2wKQd7FCd5 https://t.co/IVzVBuFDGP</td>\n",
       "      <td>-0.1779</td>\n",
       "      <td>0.057</td>\n",
       "      <td>0.091</td>\n",
       "      <td>0.852</td>\n",
       "    </tr>\n",
       "    <tr>\n",
       "      <th>98</th>\n",
       "      <td>2020-05-14 13:01:00</td>\n",
       "      <td>BBC</td>\n",
       "      <td>The face of someone about to VERY seriously judge a dessert... 🧐🤔\\n\\n@BBCR1 presenter and children's author @gregjames and co-author @itschrissmith are guest judges on tonight's #GreatBritishMenu dessert final!  🍧\\n\\n8pm | @bbctwo &amp;amp; @bbciplayer.\\n\\n👉https://t.co/uKlD2vmATB https://t.co/cswwgVXro1</td>\n",
       "      <td>-0.4621</td>\n",
       "      <td>0.000</td>\n",
       "      <td>0.064</td>\n",
       "      <td>0.936</td>\n",
       "    </tr>\n",
       "    <tr>\n",
       "      <th>399</th>\n",
       "      <td>2020-05-14 14:21:27</td>\n",
       "      <td>FoxNews</td>\n",
       "      <td>https://t.co/LZeY6dCmkY</td>\n",
       "      <td>0.0000</td>\n",
       "      <td>0.000</td>\n",
       "      <td>0.000</td>\n",
       "      <td>1.000</td>\n",
       "    </tr>\n",
       "    <tr>\n",
       "      <th>97</th>\n",
       "      <td>2020-05-14 15:00:23</td>\n",
       "      <td>BBC</td>\n",
       "      <td>RT @BBCNewsbeat: The #Eurovision acts have recorded this message to fans who would normally be watching this week.\\n \\nIt's part of our new d…</td>\n",
       "      <td>0.0000</td>\n",
       "      <td>0.000</td>\n",
       "      <td>0.000</td>\n",
       "      <td>1.000</td>\n",
       "    </tr>\n",
       "    <tr>\n",
       "      <th>96</th>\n",
       "      <td>2020-05-14 16:01:00</td>\n",
       "      <td>BBC</td>\n",
       "      <td>It took a group of volunteers 45 minutes to rescue a wild horse stuck in a deep mud hole in the foothills of Alberta, Canada.\\nhttps://t.co/dKCWJ9NSb4</td>\n",
       "      <td>0.3182</td>\n",
       "      <td>0.113</td>\n",
       "      <td>0.068</td>\n",
       "      <td>0.819</td>\n",
       "    </tr>\n",
       "  </tbody>\n",
       "</table>\n",
       "</div>"
      ],
      "text/plain": [
       "            Create Date     User  \\\n",
       "99  2020-05-14 11:01:00  BBC       \n",
       "98  2020-05-14 13:01:00  BBC       \n",
       "399 2020-05-14 14:21:27  FoxNews   \n",
       "97  2020-05-14 15:00:23  BBC       \n",
       "96  2020-05-14 16:01:00  BBC       \n",
       "\n",
       "                                                                                                                                                                                                                                                                                                             Tweet Text  \\\n",
       "99   Two of the nation’s favourite film critics @KermodeMovie and @simonmayo are turning their critical attention from cinema to the living room.  🙌\\n\\nKermode and Mayo's Home Entertainment Service | Starts this Friday | 8:30pm | @BBCFour &amp; @BBCiPlayer. \\n\\n👉 https://t.co/2wKQd7FCd5 https://t.co/IVzVBuFDGP   \n",
       "98   The face of someone about to VERY seriously judge a dessert... 🧐🤔\\n\\n@BBCR1 presenter and children's author @gregjames and co-author @itschrissmith are guest judges on tonight's #GreatBritishMenu dessert final!  🍧\\n\\n8pm | @bbctwo &amp; @bbciplayer.\\n\\n👉https://t.co/uKlD2vmATB https://t.co/cswwgVXro1        \n",
       "399  https://t.co/LZeY6dCmkY                                                                                                                                                                                                                                                                                              \n",
       "97   RT @BBCNewsbeat: The #Eurovision acts have recorded this message to fans who would normally be watching this week.\\n \\nIt's part of our new d…                                                                                                                                                                       \n",
       "96   It took a group of volunteers 45 minutes to rescue a wild horse stuck in a deep mud hole in the foothills of Alberta, Canada.\\nhttps://t.co/dKCWJ9NSb4                                                                                                                                                               \n",
       "\n",
       "     Compound Score  Positive  Neutral  Negative  \n",
       "99  -0.1779          0.057     0.091    0.852     \n",
       "98  -0.4621          0.000     0.064    0.936     \n",
       "399  0.0000          0.000     0.000    1.000     \n",
       "97   0.0000          0.000     0.000    1.000     \n",
       "96   0.3182          0.113     0.068    0.819     "
      ]
     },
     "execution_count": 45,
     "metadata": {},
     "output_type": "execute_result"
    }
   ],
   "source": [
    "results_df = pd.DataFrame({\n",
    "    'Create Date': date,\n",
    "    'User': user_list,\n",
    "    'Tweet Text': tweet_text_list,\n",
    "    'Compound Score': compound_list,\n",
    "    'Positive': positive_list,\n",
    "    'Neutral': negative_list,\n",
    "    'Negative': neutral_list})\n",
    "\n",
    "pd.set_option('display.max_colwidth', -1)\n",
    "\n",
    "results_df = results_df.sort_values(['Create Date'], ascending=True)\n",
    "results_df.head()"
   ]
  },
  {
   "cell_type": "code",
   "execution_count": 46,
   "metadata": {},
   "outputs": [
    {
     "data": {
      "text/plain": [
       "Timestamp('2020-05-14 11:01:00')"
      ]
     },
     "execution_count": 46,
     "metadata": {},
     "output_type": "execute_result"
    }
   ],
   "source": [
    "results_df['Create Date'].min()"
   ]
  },
  {
   "cell_type": "code",
   "execution_count": 32,
   "metadata": {},
   "outputs": [
    {
     "data": {
      "text/plain": [
       "array(['BBC', 'FoxNews', 'CBS', 'nytimes', 'CNN'], dtype=object)"
      ]
     },
     "execution_count": 32,
     "metadata": {},
     "output_type": "execute_result"
    }
   ],
   "source": [
    "results_df['User'].unique()"
   ]
  },
  {
   "cell_type": "code",
   "execution_count": 33,
   "metadata": {},
   "outputs": [],
   "source": [
    "scatter = results_df[['User','Create Date','Compound Score']]\n",
    "scatter_bbc = scatter.loc[scatter['User'] == 'BBC']\n",
    "scatter_fox = scatter.loc[scatter['User'] == 'FoxNews']\n",
    "scatter_cbs = scatter.loc[scatter['User'] == 'CBS']\n",
    "scatter_nytimes = scatter.loc[scatter['User'] == 'nytimes']\n",
    "scatter_cnn = scatter.loc[scatter['User'] == 'CNN']"
   ]
  },
  {
   "cell_type": "code",
   "execution_count": 103,
   "metadata": {},
   "outputs": [
    {
     "data": {
      "image/png": "[encoded data removed]",
      "text/plain": [
       "<Figure size 1440x720 with 1 Axes>"
      ]
     },
     "metadata": {
      "needs_background": "light"
     },
     "output_type": "display_data"
    }
   ],
   "source": [
    "width = 20\n",
    "height = 10\n",
    "plt.figure(figsize=(width, height))\n",
    "\n",
    "x_values = scatter_bbc['Create Date']\n",
    "y_values = scatter_bbc['Compound Score']\n",
    "bbc = plt.scatter(x_values,y_values, c='red')\n",
    "\n",
    "x_values = scatter_fox['Create Date']\n",
    "y_values = scatter_fox['Compound Score']\n",
    "fox = plt.scatter(x_values,y_values, c='blue')\n",
    "\n",
    "x_values = scatter_cbs['Create Date']\n",
    "y_values = scatter_cbs['Compound Score']\n",
    "cbs = plt.scatter(x_values,y_values, c='green')\n",
    "\n",
    "x_values = scatter_nytimes['Create Date']\n",
    "y_values = scatter_nytimes['Compound Score']\n",
    "nytimes = plt.scatter(x_values,y_values, c='black')\n",
    "\n",
    "x_values = scatter_cnn['Create Date']\n",
    "y_values = scatter_cnn['Compound Score']\n",
    "cnn = plt.scatter(x_values,y_values, c='coral')\n",
    "\n",
    "plt.xlim(results_df['Create Date'].min(), results_df['Create Date'].max())\n",
    "\n",
    "plt.legend((bbc, fox, cbs, nytimes, cnn),\n",
    "           ('BBC', 'Fox News', 'CBS', 'NY Times', 'CNN'),\n",
    "           scatterpoints=1,\n",
    "           loc='best',\n",
    "           fontsize=14)\n",
    "\n",
    "plt.xlabel('Tweet Date')\n",
    "plt.ylabel('Compund Rating')\n",
    "\n",
    "plt.savefig('Scatter_Plot.png')\n",
    "\n",
    "plt.show()"
   ]
  },
  {
   "cell_type": "code",
   "execution_count": 57,
   "metadata": {},
   "outputs": [
    {
     "data": {
      "text/html": [
       "<div>\n",
       "<style scoped>\n",
       "    .dataframe tbody tr th:only-of-type {\n",
       "        vertical-align: middle;\n",
       "    }\n",
       "\n",
       "    .dataframe tbody tr th {\n",
       "        vertical-align: top;\n",
       "    }\n",
       "\n",
       "    .dataframe thead th {\n",
       "        text-align: right;\n",
       "    }\n",
       "</style>\n",
       "<table border=\"1\" class=\"dataframe\">\n",
       "  <thead>\n",
       "    <tr style=\"text-align: right;\">\n",
       "      <th></th>\n",
       "      <th>Compound Score</th>\n",
       "    </tr>\n",
       "    <tr>\n",
       "      <th>User</th>\n",
       "      <th></th>\n",
       "    </tr>\n",
       "  </thead>\n",
       "  <tbody>\n",
       "    <tr>\n",
       "      <th>BBC</th>\n",
       "      <td>0.292436</td>\n",
       "    </tr>\n",
       "    <tr>\n",
       "      <th>CBS</th>\n",
       "      <td>0.257417</td>\n",
       "    </tr>\n",
       "    <tr>\n",
       "      <th>CNN</th>\n",
       "      <td>-0.068976</td>\n",
       "    </tr>\n",
       "    <tr>\n",
       "      <th>FoxNews</th>\n",
       "      <td>0.000000</td>\n",
       "    </tr>\n",
       "    <tr>\n",
       "      <th>nytimes</th>\n",
       "      <td>-0.049350</td>\n",
       "    </tr>\n",
       "  </tbody>\n",
       "</table>\n",
       "</div>"
      ],
      "text/plain": [
       "         Compound Score\n",
       "User                   \n",
       "BBC      0.292436      \n",
       "CBS      0.257417      \n",
       "CNN     -0.068976      \n",
       "FoxNews  0.000000      \n",
       "nytimes -0.049350      "
      ]
     },
     "execution_count": 57,
     "metadata": {},
     "output_type": "execute_result"
    }
   ],
   "source": [
    "grp_user = results_df.groupby(['User'])['Compound Score'].mean()\n",
    "grp_user = pd.DataFrame(grp_user)\n",
    "grp_user"
   ]
  },
  {
   "cell_type": "code",
   "execution_count": 102,
   "metadata": {},
   "outputs": [
    {
     "data": {
      "image/png": "[encoded data removed]",
      "text/plain": [
       "<Figure size 1440x720 with 1 Axes>"
      ]
     },
     "metadata": {
      "needs_background": "light"
     },
     "output_type": "display_data"
    }
   ],
   "source": [
    "width = 20\n",
    "height = 10\n",
    "plt.figure(figsize=(width, height))\n",
    "\n",
    "\n",
    "plt.title(\"Average Twitter Sentiment Compound Score\")\n",
    "plt.xlabel(\"Tweet Source\")\n",
    "plt.ylabel(\"Average Compound Score\")\n",
    "user = ['BBC', 'CBS', 'CNN', 'Fox News', 'NY Times']\n",
    "sentiment = [0.292436,0.257417,-0.068976,0,-0.049350]\n",
    "plt.bar(user,sentiment,width=1,color=['red', 'green', 'coral', 'blue', 'black'])\n",
    "\n",
    "plt.savefig('Bar_Chart.png')\n",
    "\n",
    "plt.show()"
   ]
  },
  {
   "cell_type": "code",
   "execution_count": null,
   "metadata": {},
   "outputs": [],
   "source": []
  }
 ],
 "metadata": {
  "kernelspec": {
   "display_name": "Python 3",
   "language": "python",
   "name": "python3"
  },
  "language_info": {
   "codemirror_mode": {
    "name": "ipython",
    "version": 3
   },
   "file_extension": ".py",
   "mimetype": "text/x-python",
   "name": "python",
   "nbconvert_exporter": "python",
   "pygments_lexer": "ipython3",
   "version": "3.7.6"
  }
 },
 "nbformat": 4,
 "nbformat_minor": 4
}
