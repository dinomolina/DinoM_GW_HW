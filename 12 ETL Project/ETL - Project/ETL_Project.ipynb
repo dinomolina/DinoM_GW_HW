{
 "cells": [
  {
   "cell_type": "code",
   "execution_count": 1,
   "metadata": {},
   "outputs": [],
   "source": [
    "import json\n",
    "from sqlalchemy import create_engine\n",
    "import pandas as pd\n",
    "import pymysql\n",
    "from datetime import datetime\n",
    "pymysql.install_as_MySQLdb()"
   ]
  },
  {
   "cell_type": "code",
   "execution_count": 3,
   "metadata": {},
   "outputs": [],
   "source": [
    "from config import sf_username, sf_password, sf_security_token\n",
    "from config import remote_db_endpoint, remote_db_port\n",
    "from config import remote_db_name, remote_db_user, remote_db_pwd"
   ]
  },
  {
   "cell_type": "code",
   "execution_count": 4,
   "metadata": {},
   "outputs": [],
   "source": [
    "from simple_salesforce import Salesforce\n",
    "sf = Salesforce(username=sf_username, password=sf_password, security_token=sf_security_token)"
   ]
  },
  {
   "cell_type": "code",
   "execution_count": 5,
   "metadata": {},
   "outputs": [],
   "source": [
    "engine = create_engine(f\"mysql://{remote_db_user}:{remote_db_pwd}@{remote_db_endpoint}:{remote_db_port}/{remote_db_name}\")\n",
    "conn = engine.connect()"
   ]
  },
  {
   "cell_type": "code",
   "execution_count": 6,
   "metadata": {},
   "outputs": [
    {
     "data": {
      "text/html": [
       "<div>\n",
       "<style scoped>\n",
       "    .dataframe tbody tr th:only-of-type {\n",
       "        vertical-align: middle;\n",
       "    }\n",
       "\n",
       "    .dataframe tbody tr th {\n",
       "        vertical-align: top;\n",
       "    }\n",
       "\n",
       "    .dataframe thead th {\n",
       "        text-align: right;\n",
       "    }\n",
       "</style>\n",
       "<table border=\"1\" class=\"dataframe\">\n",
       "  <thead>\n",
       "    <tr style=\"text-align: right;\">\n",
       "      <th></th>\n",
       "      <th>ID_Course</th>\n",
       "      <th>CourseCode</th>\n",
       "      <th>CourseName</th>\n",
       "      <th>CreditHours</th>\n",
       "      <th>BootCampCourse</th>\n",
       "    </tr>\n",
       "  </thead>\n",
       "  <tbody>\n",
       "    <tr>\n",
       "      <th>0</th>\n",
       "      <td>1</td>\n",
       "      <td>BC-DATAVIZ</td>\n",
       "      <td>Data Visualization and Analytics</td>\n",
       "      <td>12</td>\n",
       "      <td>1</td>\n",
       "    </tr>\n",
       "    <tr>\n",
       "      <th>1</th>\n",
       "      <td>2</td>\n",
       "      <td>BC-WEBDEV</td>\n",
       "      <td>Full Stack Web Development</td>\n",
       "      <td>12</td>\n",
       "      <td>1</td>\n",
       "    </tr>\n",
       "    <tr>\n",
       "      <th>2</th>\n",
       "      <td>3</td>\n",
       "      <td>BC-UIUX</td>\n",
       "      <td>User Interface/User Experience</td>\n",
       "      <td>12</td>\n",
       "      <td>1</td>\n",
       "    </tr>\n",
       "    <tr>\n",
       "      <th>3</th>\n",
       "      <td>4</td>\n",
       "      <td>CIS-349</td>\n",
       "      <td>Introduction to Databases</td>\n",
       "      <td>5</td>\n",
       "      <td>0</td>\n",
       "    </tr>\n",
       "    <tr>\n",
       "      <th>4</th>\n",
       "      <td>5</td>\n",
       "      <td>CIS-405</td>\n",
       "      <td>Database Programming</td>\n",
       "      <td>5</td>\n",
       "      <td>0</td>\n",
       "    </tr>\n",
       "  </tbody>\n",
       "</table>\n",
       "</div>"
      ],
      "text/plain": [
       "   ID_Course  CourseCode                        CourseName  CreditHours  \\\n",
       "0          1  BC-DATAVIZ  Data Visualization and Analytics           12   \n",
       "1          2   BC-WEBDEV        Full Stack Web Development           12   \n",
       "2          3     BC-UIUX    User Interface/User Experience           12   \n",
       "3          4     CIS-349         Introduction to Databases            5   \n",
       "4          5     CIS-405              Database Programming            5   \n",
       "\n",
       "   BootCampCourse  \n",
       "0               1  \n",
       "1               1  \n",
       "2               1  \n",
       "3               0  \n",
       "4               0  "
      ]
     },
     "execution_count": 6,
     "metadata": {},
     "output_type": "execute_result"
    }
   ],
   "source": [
    "course_upload = pd.read_sql(\"\"\"\n",
    "                            SELECT * \n",
    "                            FROM course\"\"\", conn)\n",
    "course_upload.head()"
   ]
  },
  {
   "cell_type": "code",
   "execution_count": 7,
   "metadata": {},
   "outputs": [],
   "source": [
    "for index, row in course_upload.iterrows():\n",
    "\n",
    "    record = {\n",
    "        'ID_Course__c': row['ID_Course'],\n",
    "        'CourseCode__c': row['CourseCode'],\n",
    "        'CourseName__c': row['CourseName'],\n",
    "        'CreditHours__c': row['CreditHours'],\n",
    "        'BootCampCourse__c': row['BootCampCourse']}\n",
    "    \n",
    "    try:\n",
    "        sf.course__c.create(record)\n",
    "    except Exception as e:\n",
    "        print(e)"
   ]
  },
  {
   "cell_type": "code",
   "execution_count": 8,
   "metadata": {},
   "outputs": [
    {
     "data": {
      "text/html": [
       "<div>\n",
       "<style scoped>\n",
       "    .dataframe tbody tr th:only-of-type {\n",
       "        vertical-align: middle;\n",
       "    }\n",
       "\n",
       "    .dataframe tbody tr th {\n",
       "        vertical-align: top;\n",
       "    }\n",
       "\n",
       "    .dataframe thead th {\n",
       "        text-align: right;\n",
       "    }\n",
       "</style>\n",
       "<table border=\"1\" class=\"dataframe\">\n",
       "  <thead>\n",
       "    <tr style=\"text-align: right;\">\n",
       "      <th></th>\n",
       "      <th>ID_Class</th>\n",
       "      <th>ID_Course</th>\n",
       "      <th>Section</th>\n",
       "      <th>StartDate</th>\n",
       "      <th>EndDate</th>\n",
       "      <th>CourseCode__c</th>\n",
       "    </tr>\n",
       "  </thead>\n",
       "  <tbody>\n",
       "    <tr>\n",
       "      <th>0</th>\n",
       "      <td>1</td>\n",
       "      <td>1</td>\n",
       "      <td>GWU-ARL-DATA-PT-09-0</td>\n",
       "      <td>2020-03-16</td>\n",
       "      <td>2020-03-14</td>\n",
       "      <td>BC-DATAVIZ</td>\n",
       "    </tr>\n",
       "    <tr>\n",
       "      <th>1</th>\n",
       "      <td>2</td>\n",
       "      <td>1</td>\n",
       "      <td>GWDC201805DATA3</td>\n",
       "      <td>2018-05-15</td>\n",
       "      <td>2018-11-08</td>\n",
       "      <td>BC-DATAVIZ</td>\n",
       "    </tr>\n",
       "    <tr>\n",
       "      <th>2</th>\n",
       "      <td>3</td>\n",
       "      <td>2</td>\n",
       "      <td>GWARL201905WEB3</td>\n",
       "      <td>2019-05-14</td>\n",
       "      <td>2019-11-07</td>\n",
       "      <td>BC-WEBDEV</td>\n",
       "    </tr>\n",
       "    <tr>\n",
       "      <th>3</th>\n",
       "      <td>4</td>\n",
       "      <td>3</td>\n",
       "      <td>GWARL201905UIUX3</td>\n",
       "      <td>2019-05-14</td>\n",
       "      <td>2019-11-07</td>\n",
       "      <td>BC-UIUX</td>\n",
       "    </tr>\n",
       "  </tbody>\n",
       "</table>\n",
       "</div>"
      ],
      "text/plain": [
       "   ID_Class  ID_Course               Section   StartDate     EndDate  \\\n",
       "0         1          1  GWU-ARL-DATA-PT-09-0  2020-03-16  2020-03-14   \n",
       "1         2          1       GWDC201805DATA3  2018-05-15  2018-11-08   \n",
       "2         3          2       GWARL201905WEB3  2019-05-14  2019-11-07   \n",
       "3         4          3      GWARL201905UIUX3  2019-05-14  2019-11-07   \n",
       "\n",
       "  CourseCode__c  \n",
       "0    BC-DATAVIZ  \n",
       "1    BC-DATAVIZ  \n",
       "2     BC-WEBDEV  \n",
       "3       BC-UIUX  "
      ]
     },
     "execution_count": 8,
     "metadata": {},
     "output_type": "execute_result"
    }
   ],
   "source": [
    "class_start = pd.read_sql( \"\"\"\n",
    "                            SELECT \n",
    "                            class.ID_Class,\n",
    "                            class.ID_Course,\n",
    "                            class.Section,\n",
    "                            class.StartDate,\n",
    "                            class.EndDate,\n",
    "                            course.CourseCode\n",
    "                            From class\n",
    "                            Join course\n",
    "                            On class.ID_Course = course.ID_Course\"\"\", conn)\n",
    "\n",
    "class_start['StartDate'] = pd.to_datetime(class_start['StartDate']).dt.date\n",
    "class_start['EndDate'] = pd.to_datetime(class_start['EndDate']).dt.date\n",
    "class_start = class_start.rename(columns={\"CourseCode\": \"CourseCode__c\"})\n",
    "class_start.head()"
   ]
  },
  {
   "cell_type": "code",
   "execution_count": 9,
   "metadata": {},
   "outputs": [
    {
     "data": {
      "text/plain": [
       "ID_Class          int64\n",
       "ID_Course         int64\n",
       "Section          object\n",
       "StartDate        object\n",
       "EndDate          object\n",
       "CourseCode__c    object\n",
       "dtype: object"
      ]
     },
     "execution_count": 9,
     "metadata": {},
     "output_type": "execute_result"
    }
   ],
   "source": [
    "class_start.dtypes"
   ]
  },
  {
   "cell_type": "code",
   "execution_count": null,
   "metadata": {},
   "outputs": [],
   "source": [
    "course_list = []\n",
    "course_lookup = sf.query_all_iter(\"SELECT Name, CourseCode__C from course__c\")\n",
    "\n",
    "for row in course_lookup:\n",
    "    record = {'course__c': row['Name'],\n",
    "              'CourseCode__c': row['CourseCode__c']}\n",
    "    \n",
    "    course_list.append(record)\n",
    "\n",
    "course_list_df = pd.DataFrame(course_list)\n",
    "course_list_df"
   ]
  },
  {
   "cell_type": "code",
   "execution_count": null,
   "metadata": {},
   "outputs": [],
   "source": [
    "class_upload = pd.merge(class_start, course_list_df, how = 'left')\n",
    "class_upload"
   ]
  },
  {
   "cell_type": "code",
   "execution_count": null,
   "metadata": {},
   "outputs": [],
   "source": [
    "for index, row in class_upload.iterrows():\n",
    "\n",
    "    record = {\n",
    "        'ID_Class__c': row['ID_Class'],\n",
    "        'ID_Course__c': row['ID_Course'],\n",
    "        'Section__c': row['Section'],\n",
    "        'StartDate__c': str(row['StartDate']),\n",
    "        'EndDate__c': str(row['EndDate']),\n",
    "        'course__c': row['course__c']}\n",
    "    \n",
    "    try:\n",
    "        sf.class__c.create(record)\n",
    "    except Exception as e:\n",
    "        print(e)"
   ]
  },
  {
   "cell_type": "code",
   "execution_count": null,
   "metadata": {},
   "outputs": [],
   "source": [
    "student_upload = pd.read_sql(\"\"\"\n",
    "                            SELECT * \n",
    "                            FROM student\"\"\", conn)\n",
    "\n",
    "student_upload['BirthDate'] = pd.to_datetime(student_upload['BirthDate']).dt.date\n",
    "\n",
    "student_upload.head()"
   ]
  },
  {
   "cell_type": "code",
   "execution_count": null,
   "metadata": {},
   "outputs": [],
   "source": [
    "for index, row in student_upload.iterrows():\n",
    "\n",
    "    record = {\n",
    "        'ID_Student__c': row['ID_Student'],\n",
    "        'StudentID__c': row['StudentID'],\n",
    "        'LastName__c': row['LastName'],\n",
    "        'FirstName__c': row['FirstName'],\n",
    "        'MiddleName__c': row['MiddleName'],\n",
    "        'Gender__c': row['Gender']}\n",
    "    \n",
    "    try:\n",
    "        sf.student__c.create(record)\n",
    "    except Exception as e:\n",
    "        print(e)"
   ]
  },
  {
   "cell_type": "code",
   "execution_count": null,
   "metadata": {},
   "outputs": [],
   "source": [
    "classparticipant_start = pd.read_sql( \"\"\"\n",
    "                                    SELECT \n",
    "                                    classparticipant.ID_ClassParticipant,\n",
    "                                    classparticipant.ID_Student,\n",
    "                                    classparticipant.ID_Class,\n",
    "                                    classparticipant.StartDate,\n",
    "                                    classparticipant.EndDate,\n",
    "                                    class.Section\n",
    "                                    From classparticipant\n",
    "                                    Join class\n",
    "                                    On classparticipant.ID_Class = class.ID_Class \"\"\", conn)\n",
    "\n",
    "classparticipant_start['StartDate'] = pd.to_datetime(classparticipant_start['StartDate']).dt.date\n",
    "classparticipant_start['EndDate'] = pd.to_datetime(classparticipant_start['EndDate']).dt.date\n",
    "#classparticipant = classparticipant.rename(columns={\"CourseCode\": \"CourseCode__c\"})\n",
    "classparticipant_start.head()"
   ]
  },
  {
   "cell_type": "code",
   "execution_count": null,
   "metadata": {},
   "outputs": [],
   "source": [
    "student_list = []\n",
    "student_lookup = sf.query_all_iter(\"SELECT Name, ID_Student__C from student__c\")\n",
    "\n",
    "for row in student_lookup:\n",
    "    record = {'student__c': row['Name'],\n",
    "              'ID_Student': row['ID_Student__c']}\n",
    "    \n",
    "    student_list.append(record)\n",
    "\n",
    "student_list_df = pd.DataFrame(student_list)\n",
    "student_list_df.head()"
   ]
  },
  {
   "cell_type": "code",
   "execution_count": null,
   "metadata": {},
   "outputs": [],
   "source": [
    "class_list = []\n",
    "class_lookup = sf.query_all_iter(\"SELECT Name, Section__c from class__c\")\n",
    "\n",
    "for row in class_lookup:\n",
    "    record = {'class__c': row['Name'],\n",
    "              'Section': row['Section__c']}\n",
    "    \n",
    "    class_list.append(record)\n",
    "\n",
    "class_list_df = pd.DataFrame(class_list)\n",
    "class_list_df.head()"
   ]
  },
  {
   "cell_type": "code",
   "execution_count": null,
   "metadata": {},
   "outputs": [],
   "source": [
    "classparticipant_upload = pd.merge(classparticipant_start, student_list_df, how = 'left')\n",
    "classparticipant_upload.head()"
   ]
  },
  {
   "cell_type": "code",
   "execution_count": null,
   "metadata": {},
   "outputs": [],
   "source": [
    "classparticipant_upload = pd.merge(classparticipant_upload, class_list_df, how = 'left')\n",
    "classparticipant_upload.head()"
   ]
  },
  {
   "cell_type": "code",
   "execution_count": null,
   "metadata": {},
   "outputs": [],
   "source": [
    "for index, row in classparticipant_upload.iterrows():\n",
    "\n",
    "    record = {\n",
    "        'ID_ClassParticipant__c': row['ID_ClassParticipant'],\n",
    "        'ID_Student__c': row['ID_Student'],\n",
    "        'ID_Class__c': row['ID_Class'],\n",
    "        'StartDate__c': str(row['StartDate']),\n",
    "        'student__c': row['student__c'],\n",
    "        'class__c': row['class__c']}\n",
    "    try:\n",
    "        sf.classparticipant__c.create(record)\n",
    "    except Exception as e:\n",
    "        print(e)"
   ]
  },
  {
   "cell_type": "code",
   "execution_count": null,
   "metadata": {},
   "outputs": [],
   "source": [
    "staff_upload = pd.read_sql(\"\"\"\n",
    "                            SELECT * \n",
    "                            FROM staff\"\"\", conn)\n",
    "\n",
    "staff_upload['BirthDate'] = pd.to_datetime(staff_upload['BirthDate']).dt.date\n",
    "staff_upload.head()"
   ]
  },
  {
   "cell_type": "code",
   "execution_count": null,
   "metadata": {},
   "outputs": [],
   "source": [
    "for index, row in staff_upload.iterrows():\n",
    "\n",
    "    record = {\n",
    "        'ID__c': row['ID_Staff'],\n",
    "        'EmployeeID__c': row['EmployeeID'],\n",
    "        'LastName__c': row['LastName'],\n",
    "        'FirstName__c': row['FirstName'],\n",
    "        'MiddleName__c': row['MiddleName'],\n",
    "        'BirthDate__c': str(row['BirthDate'])}\n",
    "    \n",
    "    try:\n",
    "        sf.staff__c.create(record)\n",
    "    except Exception as e:\n",
    "        print(e)"
   ]
  },
  {
   "cell_type": "code",
   "execution_count": null,
   "metadata": {},
   "outputs": [],
   "source": [
    "class_list2 = []\n",
    "class_lookup2 = sf.query_all_iter(\"SELECT Name, ID_Class__c from class__c\")\n",
    "\n",
    "for row in class_lookup2:\n",
    "    record = {'class__c': row['Name'],\n",
    "              'ID_Class': row['ID_Class__c']}\n",
    "    \n",
    "    class_list2.append(record)\n",
    "\n",
    "class_list2_df = pd.DataFrame(class_list2)\n",
    "class_list2_df.head()"
   ]
  },
  {
   "cell_type": "code",
   "execution_count": null,
   "metadata": {},
   "outputs": [],
   "source": [
    "staff_list = []\n",
    "staff_lookup = sf.query_all_iter(\"SELECT Name, ID__c from staff__c\")\n",
    "\n",
    "for row in staff_lookup:\n",
    "    record = {'staff__c': row['Name'],\n",
    "              'ID_Staff': row['ID__c']}\n",
    "    \n",
    "    staff_list.append(record)\n",
    "\n",
    "staff_list_df = pd.DataFrame(staff_list)\n",
    "staff_list_df.head()"
   ]
  },
  {
   "cell_type": "code",
   "execution_count": null,
   "metadata": {},
   "outputs": [],
   "source": [
    "staffassignment_start = pd.read_sql(\"\"\"\n",
    "                            SELECT * \n",
    "                            FROM staffassignment\"\"\", conn)\n",
    "staffassignment_start.head()"
   ]
  },
  {
   "cell_type": "code",
   "execution_count": null,
   "metadata": {},
   "outputs": [],
   "source": [
    "staffassignment_upload = pd.merge(staffassignment_start, class_list2_df, how = 'left')\n",
    "staffassignment_upload.head()"
   ]
  },
  {
   "cell_type": "code",
   "execution_count": null,
   "metadata": {},
   "outputs": [],
   "source": [
    "staffassigment_upload = pd.merge(staffassignment_upload, staff_list_df, how = 'left')\n",
    "staffassigment_upload.head()"
   ]
  },
  {
   "cell_type": "code",
   "execution_count": null,
   "metadata": {},
   "outputs": [],
   "source": [
    "for index, row in staffassigment_upload.iterrows():\n",
    "\n",
    "    record = {\n",
    "        'ID_Staff__c': row['ID_Staff'],\n",
    "        'ID_Class__c': row['ID_Class'],\n",
    "        'Role__c': row['Role'],\n",
    "        'class__c': row['class__c'],\n",
    "        'staff__c': row['staff__c'],\n",
    "        'StartDate__c': str(row['StartDate'])}\n",
    "    \n",
    "    try:\n",
    "        sf.staffassignment__c.create(record)\n",
    "    except Exception as e:\n",
    "        print(e)"
   ]
  },
  {
   "cell_type": "code",
   "execution_count": null,
   "metadata": {},
   "outputs": [],
   "source": []
  }
 ],
 "metadata": {
  "kernelspec": {
   "display_name": "Python 3",
   "language": "python",
   "name": "python3"
  },
  "language_info": {
   "codemirror_mode": {
    "name": "ipython",
    "version": 3
   },
   "file_extension": ".py",
   "mimetype": "text/x-python",
   "name": "python",
   "nbconvert_exporter": "python",
   "pygments_lexer": "ipython3",
   "version": "3.7.6"
  }
 },
 "nbformat": 4,
 "nbformat_minor": 4
}
